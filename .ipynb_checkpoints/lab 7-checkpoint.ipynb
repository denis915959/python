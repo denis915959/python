{
 "cells": [
  {
   "cell_type": "markdown",
   "id": "5fdaa014",
   "metadata": {},
   "source": [
    "## Збруев Денис. Лабораторная работа 7. "
   ]
  },
  {
   "cell_type": "markdown",
   "id": "7465bcd1",
   "metadata": {},
   "source": [
    "### Постановка задачи:  примененить метода главных компонент (PCA) для сокращения размерности данных датасета MNIST и оценки точности алгоритма k-ближайших соседей на этих данных при различной размерности этих данных (размерность меняетсяс помощью PCA). Построить графики зависимости времени работы алгоритма k-ближайших от размерности входных данных и точности работы алгоритма от размерности входных данных"
   ]
  },
  {
   "cell_type": "markdown",
   "id": "080285ca",
   "metadata": {},
   "source": [
    "### Подключим библиотеки и настроим датасет MNIST"
   ]
  },
  {
   "cell_type": "code",
   "execution_count": 1,
   "id": "d41cd969",
   "metadata": {},
   "outputs": [],
   "source": [
    "import numpy as np\n",
    "import torch\n",
    "from sklearn.decomposition import PCA\n",
    "from sklearn.neighbors import KNeighborsClassifier\n",
    "from torchvision import datasets, transforms\n",
    "import time\n",
    "import matplotlib.pyplot as plt\n",
    "\n",
    "# Загрузка датасета MNIST\n",
    "train_dataset = datasets.MNIST(root='./data', train=True, download=True, transform=transforms.ToTensor())\n",
    "test_dataset = datasets.MNIST(root='./data', train=False, download=True, transform=transforms.ToTensor())\n",
    "\n",
    "# Преобразование данных в numpy массивы\n",
    "train_data = train_dataset.data.numpy().reshape(len(train_dataset), -1)\n",
    "test_data = test_dataset.data.numpy().reshape(len(test_dataset), -1)\n",
    "train_labels = train_dataset.targets.numpy()\n",
    "test_labels = test_dataset.targets.numpy()"
   ]
  },
  {
   "cell_type": "markdown",
   "id": "d8fac18b",
   "metadata": {},
   "source": [
    "### Зададим массив размерностей входных данных (на построенном графике это будет ось х):"
   ]
  },
  {
   "cell_type": "code",
   "execution_count": 2,
   "id": "c7eff0a6",
   "metadata": {},
   "outputs": [],
   "source": [
    "n_arr=[784, 740, 700, 650, 600, 550, 500, 450, 400, 350, 300, 250, 200, 150, 100, 70, 50, 40, 30, 20, 10, 5]\n",
    "n_arr.reverse()\n",
    "n_size=len(n_arr)\n",
    "T=[]\n",
    "accuracy_arr=[]"
   ]
  },
  {
   "cell_type": "markdown",
   "id": "f26cb086",
   "metadata": {},
   "source": [
    "### В цикле для каждого элемента из n_size получаем с помощью PCA данные размерности n_size[i], после чего запускаем обучение алгоритма k-ближайших, далее измеряем время его работы на test_data_pca:"
   ]
  },
  {
   "cell_type": "code",
   "execution_count": null,
   "id": "587f37f2",
   "metadata": {},
   "outputs": [],
   "source": [
    "for i in range(0, n_size):\n",
    "\t# Применение PCA\n",
    "\tpca = PCA(n_components=n_arr[i], copy = True)\n",
    "\ttrain_data_pca = pca.fit_transform(train_data)\n",
    "\ttest_data_pca = pca.transform(test_data)\n",
    "\n",
    "\t# Обучение алгоритма k-ближайших соседей на данных, полученных после применения PCA\n",
    "\tknn1 = KNeighborsClassifier(n_neighbors=5)\n",
    "\tknn1.fit(train_data_pca, train_labels)\n",
    "\n",
    "\t# Оценка точности алгоритма на тестовых данных\n",
    "\tt1=time.process_time()\n",
    "\taccuracy = knn1.score(test_data_pca, test_labels)\n",
    "\taccuracy_arr.append(accuracy)\n",
    "\tt2=time.process_time()\n",
    "\tT.append(t2-t1)\n",
    "\tprint(\"Точность алгоритма k-ближайших соседей после применения PCA:\", accuracy)\n",
    "\tprint(\"Время: \", T[i])\n",
    "\tprint(\"\")"
   ]
  },
  {
   "cell_type": "markdown",
   "id": "42029db3",
   "metadata": {},
   "source": [
    "### Строим график времени работы алгоритма от размерности входных данных:"
   ]
  },
  {
   "cell_type": "code",
   "execution_count": null,
   "id": "8d818375",
   "metadata": {},
   "outputs": [],
   "source": []
  },
  {
   "cell_type": "markdown",
   "id": "c2f3f461",
   "metadata": {},
   "source": [
    "### Строим график точности работы от размерности входных данных:"
   ]
  },
  {
   "cell_type": "code",
   "execution_count": null,
   "id": "b0b5e26b",
   "metadata": {},
   "outputs": [],
   "source": []
  }
 ],
 "metadata": {
  "kernelspec": {
   "display_name": "Python 3 (ipykernel)",
   "language": "python",
   "name": "python3"
  },
  "language_info": {
   "codemirror_mode": {
    "name": "ipython",
    "version": 3
   },
   "file_extension": ".py",
   "mimetype": "text/x-python",
   "name": "python",
   "nbconvert_exporter": "python",
   "pygments_lexer": "ipython3",
   "version": "3.10.11"
  }
 },
 "nbformat": 4,
 "nbformat_minor": 5
}
