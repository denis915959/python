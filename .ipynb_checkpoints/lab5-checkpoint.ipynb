{
 "cells": [
  {
   "cell_type": "markdown",
   "id": "bbcc1f14",
   "metadata": {},
   "source": [
    "## Збруев Денис. Лабораторная работа №4."
   ]
  },
  {
   "cell_type": "markdown",
   "id": "d27d3506",
   "metadata": {},
   "source": [
    "### Подключим необходимые библиотеки и настроим датасет MNIST :"
   ]
  },
  {
   "cell_type": "code",
   "execution_count": 2,
   "id": "edf22018",
   "metadata": {},
   "outputs": [],
   "source": [
    "import matplotlib.pyplot as plt\n",
    "import torch\n",
    "import torchvision\n",
    "import torch.nn as nn\n",
    "import torch.nn.functional as F\n",
    "\n",
    "train_set = torchvision.datasets.MNIST(root='./data', train=True, transform=torchvision.transforms.ToTensor(), download=True)\n",
    "test_set = torchvision.datasets.MNIST(root='./data', train=False, transform=torchvision.transforms.ToTensor(), download=True)\n",
    "# Создаем загрузчики данных\n",
    "train_load = torch.utils.data.DataLoader(dataset=train_set, shuffle=True, batch_size=64) #обучающие данные будут разбиты на пакеты по 64 образцов в каждом   \n",
    "test_load = torch.utils.data.DataLoader(dataset=test_set, shuffle=False, batch_size=64)"
   ]
  },
  {
   "cell_type": "code",
   "execution_count": null,
   "id": "51bd15e3",
   "metadata": {},
   "outputs": [],
   "source": []
  }
 ],
 "metadata": {
  "kernelspec": {
   "display_name": "Python 3 (ipykernel)",
   "language": "python",
   "name": "python3"
  },
  "language_info": {
   "codemirror_mode": {
    "name": "ipython",
    "version": 3
   },
   "file_extension": ".py",
   "mimetype": "text/x-python",
   "name": "python",
   "nbconvert_exporter": "python",
   "pygments_lexer": "ipython3",
   "version": "3.10.11"
  }
 },
 "nbformat": 4,
 "nbformat_minor": 5
}
