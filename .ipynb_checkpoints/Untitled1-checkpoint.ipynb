{
 "cells": [
  {
   "cell_type": "markdown",
   "id": "fd83c884",
   "metadata": {},
   "source": [
    "# Лабораторная работа 2, вариант1. Збруев Денис"
   ]
  },
  {
   "cell_type": "markdown",
   "id": "2519bab2",
   "metadata": {},
   "source": [
    "### Подключим библиотеки и настроим датасет MNIST"
   ]
  },
  {
   "cell_type": "code",
   "execution_count": 1,
   "id": "edf30748",
   "metadata": {},
   "outputs": [],
   "source": [
    "from sklearn.cluster import KMeans, DBSCAN, Birch \n",
    "from sklearn import metrics\n",
    "from torchvision import datasets, transforms\n",
    "import torch\n",
    "import torch.utils.data as data_utils\n",
    "import numpy as np\n",
    "\n",
    "from torchvision.datasets import MNIST\n",
    "\n",
    "#загружаем набор данных MNIST\n",
    "transform = transforms.Compose([\n",
    "transforms.ToTensor(),\n",
    "transforms.Normalize((0.1307,), (0.3081,))  \n",
    "])\n",
    "\n",
    "train_set = MNIST(root='./data', train=True, download=True, transform=transform) #датасет, на котором \"тренируем\" нейронку\n",
    "test_set = MNIST(root='./data', train=False, download=True, transform=transform) #на этом датасете проверям, насколько хорошо обучили нейронку (через расчет ARI)\n",
    "\n",
    "train_data = train_set.data.reshape((-1, 28 * 28)) #делаем картинки одного размера\n",
    "test_data = test_set.data.reshape((-1, 28 * 28))\n",
    "\n",
    "train_data = train_data.float() / 255.0   #алгоритм так быстрее работает\n",
    "test_data = test_data.float() / 255.0"
   ]
  },
  {
   "cell_type": "markdown",
   "id": "bdaa9c26",
   "metadata": {},
   "source": [
    "### Произведём k-means класстеризацию и высчитаем значение ARI для k-means:"
   ]
  },
  {
   "cell_type": "code",
   "execution_count": null,
   "id": "b16fa7e1",
   "metadata": {},
   "outputs": [],
   "source": [
    "kmeans = KMeans(n_clusters=10, random_state=12).fit(train_data) \n",
    "#Получение прогнозируемых меток\n",
    "kmeans_predicate_labels = kmeans.predict(test_data) \n",
    "#Рассчитываем скорректированный индекс RAND между прогнозируемыми метками и истинными метками\n",
    "true_labels = test_set.targets\n",
    "kmeans_ari = metrics.adjusted_rand_score(true_labels, kmeans_predicate_labels)\n",
    "print(\"kmeans Adjusted Rand Index:\", kmeans_ari)"
   ]
  }
 ],
 "metadata": {
  "kernelspec": {
   "display_name": "Python 3 (ipykernel)",
   "language": "python",
   "name": "python3"
  },
  "language_info": {
   "codemirror_mode": {
    "name": "ipython",
    "version": 3
   },
   "file_extension": ".py",
   "mimetype": "text/x-python",
   "name": "python",
   "nbconvert_exporter": "python",
   "pygments_lexer": "ipython3",
   "version": "3.10.11"
  }
 },
 "nbformat": 4,
 "nbformat_minor": 5
}
