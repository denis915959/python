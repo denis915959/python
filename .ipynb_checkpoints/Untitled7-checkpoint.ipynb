{
 "cells": [
  {
   "cell_type": "markdown",
   "id": "2e83a924",
   "metadata": {},
   "source": [
    "## Збруев Денис. Лабораторная работа 7. "
   ]
  },
  {
   "cell_type": "markdown",
   "id": "f13e0b63",
   "metadata": {},
   "source": [
    "### Постановка задачи:  примененить метода главных компонент (PCA) для сокращения размерности данных датасета MNIST и оценки точности алгоритма k-ближайших соседей на этих данных при различной размерности этих данных (размерность меняетсяс помощью PCA). Построить графики зависимости времени работы алгоритма k-ближайших от размерности входных данных и точности работы алгоритма от размерности входных данных"
   ]
  },
  {
   "cell_type": "markdown",
   "id": "0582ac41",
   "metadata": {},
   "source": [
    "### Подключим библиотеки и настроим датасет MNIST"
   ]
  },
  {
   "cell_type": "code",
   "execution_count": 1,
   "id": "fc9a7395",
   "metadata": {},
   "outputs": [],
   "source": [
    "import numpy as np\n",
    "import torch\n",
    "from sklearn.decomposition import PCA\n",
    "from sklearn.neighbors import KNeighborsClassifier\n",
    "from torchvision import datasets, transforms\n",
    "import time\n",
    "import matplotlib.pyplot as plt\n",
    "\n",
    "# Загрузка датасета MNIST\n",
    "train_dataset = datasets.MNIST(root='./data', train=True, download=True, transform=transforms.ToTensor())\n",
    "test_dataset = datasets.MNIST(root='./data', train=False, download=True, transform=transforms.ToTensor())\n",
    "\n",
    "# Преобразование данных в numpy массивы\n",
    "train_data = train_dataset.data.numpy().reshape(len(train_dataset), -1)\n",
    "test_data = test_dataset.data.numpy().reshape(len(test_dataset), -1)\n",
    "train_labels = train_dataset.targets.numpy()\n",
    "test_labels = test_dataset.targets.numpy()"
   ]
  },
  {
   "cell_type": "markdown",
   "id": "e2a3da92",
   "metadata": {},
   "source": [
    "### Зададим массив размерностей входных данных (на построенном графике это будет ось х):"
   ]
  },
  {
   "cell_type": "code",
   "execution_count": 2,
   "id": "44c00d12",
   "metadata": {},
   "outputs": [],
   "source": [
    "n_arr=[784, 740, 700, 650, 600, 550, 500, 450, 400, 350, 300, 250, 200, 150, 100, 70, 50, 40, 30, 20, 10, 5]\n",
    "n_arr.reverse()\n",
    "n_size=len(n_arr)\n",
    "T=[]\n",
    "accuracy_arr=[]"
   ]
  },
  {
   "cell_type": "markdown",
   "id": "660f5266",
   "metadata": {},
   "source": [
    "### В цикле "
   ]
  },
  {
   "cell_type": "code",
   "execution_count": 9,
   "id": "75f2129a",
   "metadata": {},
   "outputs": [
    {
     "ename": "IndentationError",
     "evalue": "unindent does not match any outer indentation level (<tokenize>, line 16)",
     "output_type": "error",
     "traceback": [
      "\u001b[1;36m  File \u001b[1;32m<tokenize>:16\u001b[1;36m\u001b[0m\n\u001b[1;33m    t2=time.process_time()\u001b[0m\n\u001b[1;37m    ^\u001b[0m\n\u001b[1;31mIndentationError\u001b[0m\u001b[1;31m:\u001b[0m unindent does not match any outer indentation level\n"
     ]
    }
   ],
   "source": [
    "for i in range(0, n_size):\n",
    "\t# Применение PCA\n",
    "\tpca = PCA(n_components=n_arr[i], copy = True) #на 10 точность ниже (0.9277)\n",
    "\ttrain_data_pca = pca.fit_transform(train_data)\n",
    "\ttest_data_pca = pca.transform(test_data)\n",
    "\n",
    "\t# Обучение алгоритма k-ближайших соседей на данных, полученных после применения PCA\n",
    "\t#t1=time.process_time()\n",
    "\tknn1 = KNeighborsClassifier(n_neighbors=5)\n",
    "\tknn1.fit(train_data_pca, train_labels)\n",
    "\n",
    "\t# Оценка точности алгоритма на тестовых данных\n",
    "\tt1=time.process_time()\n",
    "\taccuracy = knn1.score(test_data_pca, test_labels)\n",
    "\taccuracy_arr.append(accuracy)\n",
    "\tt2=time.process_time()\n",
    "\tT.append(t2-t1)\n",
    "\tif(i%3==0):\n",
    "\t\tprint(\"Точность алгоритма k-ближайших соседей после применения PCA:\", accuracy)\n",
    "        print(\"Время: \", T[i])\n",
    "        print(\"\")\"\"\""
   ]
  },
  {
   "cell_type": "code",
   "execution_count": null,
   "id": "174eb83a",
   "metadata": {},
   "outputs": [],
   "source": []
  }
 ],
 "metadata": {
  "kernelspec": {
   "display_name": "Python 3 (ipykernel)",
   "language": "python",
   "name": "python3"
  },
  "language_info": {
   "codemirror_mode": {
    "name": "ipython",
    "version": 3
   },
   "file_extension": ".py",
   "mimetype": "text/x-python",
   "name": "python",
   "nbconvert_exporter": "python",
   "pygments_lexer": "ipython3",
   "version": "3.10.11"
  }
 },
 "nbformat": 4,
 "nbformat_minor": 5
}
