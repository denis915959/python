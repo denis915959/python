{
 "cells": [
  {
   "cell_type": "markdown",
   "id": "0c6b0085",
   "metadata": {},
   "source": [
    "# Лабораторная работа 2, вариант1. Збруев Денис"
   ]
  },
  {
   "cell_type": "markdown",
   "id": "1a261129",
   "metadata": {},
   "source": [
    "### Подключим библиотеки и настроим датасет MNIST"
   ]
  },
  {
   "cell_type": "code",
   "execution_count": 1,
   "id": "54e73e1c",
   "metadata": {},
   "outputs": [],
   "source": [
    "from sklearn.cluster import KMeans, DBSCAN, Birch \n",
    "from sklearn import metrics\n",
    "from torchvision import datasets, transforms\n",
    "import torch\n",
    "import torch.utils.data as data_utils\n",
    "import numpy as np\n",
    "\n",
    "from torchvision.datasets import MNIST\n",
    "\n",
    "#загружаем набор данных MNIST\n",
    "transform = transforms.Compose([\n",
    "transforms.ToTensor(),\n",
    "transforms.Normalize((0.1307,), (0.3081,))  \n",
    "])\n",
    "\n",
    "train_set = MNIST(root='./data', train=True, download=True, transform=transform) #датасет, на котором \"тренируем\" нейронку\n",
    "test_set = MNIST(root='./data', train=False, download=True, transform=transform) #на этом датасете проверям, насколько хорошо обучили нейронку (через расчет ARI)\n",
    "\n",
    "train_data = train_set.data.reshape((-1, 28 * 28)) #делаем картинки одного размера\n",
    "test_data = test_set.data.reshape((-1, 28 * 28))\n",
    "\n",
    "train_data = train_data.float() / 255.0   #алгоритм так быстрее работает\n",
    "test_data = test_data.float() / 255.0"
   ]
  },
  {
   "cell_type": "markdown",
   "id": "e78420fd",
   "metadata": {},
   "source": [
    "### Произведём k-means класстеризацию и высчитаем значение ARI для k-means:"
   ]
  },
  {
   "cell_type": "code",
   "execution_count": 5,
   "id": "9ce1f577",
   "metadata": {},
   "outputs": [
    {
     "name": "stderr",
     "output_type": "stream",
     "text": [
      "C:\\Users\\Lenovo\\AppData\\Local\\Programs\\Python\\Python310\\lib\\site-packages\\sklearn\\cluster\\_kmeans.py:870: FutureWarning: The default value of `n_init` will change from 10 to 'auto' in 1.4. Set the value of `n_init` explicitly to suppress the warning\n",
      "  warnings.warn(\n"
     ]
    },
    {
     "name": "stdout",
     "output_type": "stream",
     "text": [
      "kmeans Adjusted Rand Index: 0.4049002590872505\n"
     ]
    }
   ],
   "source": [
    "kmeans = KMeans(n_clusters=10, random_state=12).fit(train_data) \n",
    "#Получение прогнозируемых меток\n",
    "kmeans_predicate_labels = kmeans.predict(test_data) \n",
    "#Рассчитываем скорректированный индекс RAND между прогнозируемыми метками и истинными метками\n",
    "true_labels = test_set.targets\n",
    "kmeans_ari = metrics.adjusted_rand_score(true_labels, kmeans_predicate_labels)\n",
    "print(\"kmeans Adjusted Rand Index:\", kmeans_ari)"
   ]
  },
  {
   "cell_type": "markdown",
   "id": "54f38f17",
   "metadata": {},
   "source": [
    "### Произведём DBSCAN класстеризацию и высчитаем значение ARI для DBSCAN:"
   ]
  },
  {
   "cell_type": "code",
   "execution_count": 7,
   "id": "806d7fa9",
   "metadata": {},
   "outputs": [
    {
     "name": "stdout",
     "output_type": "stream",
     "text": [
      "DBSCAN  Adjusted Rand Index: 0.1089627571656831\n"
     ]
    }
   ],
   "source": [
    "dbscan = DBSCAN(eps=5.2, min_samples=6) #на 5.2 оптимален, min_samples- это как раз n из лекции. 6 - оптимален (ari выше) #через чат подобрать оптимальные параметры утром\n",
    "dbscan.fit(train_data)\n",
    "dbscan_predicated_labels = dbscan.fit_predict(test_data) \n",
    "true_labels = test_set.targets\n",
    "dbscan_ari = metrics.adjusted_rand_score(true_labels, dbscan_predicated_labels)\n",
    "print(\"DBSCAN  Adjusted Rand Index:\",dbscan_ari)"
   ]
  },
  {
   "cell_type": "markdown",
   "id": "08982170",
   "metadata": {},
   "source": [
    "### Произведём BIRCH класстеризацию и высчитаем значение ARI для BIRCH:"
   ]
  },
  {
   "cell_type": "code",
   "execution_count": 8,
   "id": "70b7b654",
   "metadata": {},
   "outputs": [
    {
     "name": "stdout",
     "output_type": "stream",
     "text": [
      "Birch  Adjusted Rand Index: 0.32461455140691714\n"
     ]
    }
   ],
   "source": [
    "birch = Birch(branching_factor = 40, n_clusters = None, threshold = 7.0).fit(train_data)  #branching_factor=40 оптимален, на 7.0 оптимально threshold=0.3, n_clusters=10).fit(train_data)#preference=-50, damping=0.5).fit(train_data)   #через чат подобрать оптимальные параметры утром\n",
    "birch_predicated_labels = birch.predict(test_data) \n",
    "true_labels = test_set.targets\n",
    "birch_ari = metrics.adjusted_rand_score(true_labels, birch_predicated_labels)\n",
    "print(\"Birch  Adjusted Rand Index:\",birch_ari)"
   ]
  },
  {
   "cell_type": "markdown",
   "id": "d0b0799f",
   "metadata": {},
   "source": [
    "### Вывод: рассмотрены 3 алгоритма. Хуже всего себя показал алгоритм DBSCAN (минимальное значение ARI).  Это может быть связано с тем, что DBSCAN эффективно выделяет кластеры с константной плотностью. Изображение цифр не обладает константной плотностью, что приводит к ошибкам кластеризации. Кроме того, еще одна возможная причина плохой работы DBSCAN - изображения MNIST имеют много шума.  На втором месте оказался алгоритм Birch, а на первом месте - Kmeans. Вероятная причина победы Kmeans связана с тем, что он хорошо работает с данными, которые имеют ярко выраженные кластеры (кластеры в MNIST неплохо выражены). Это позволяет kmeans разделить изображения на кластеры с высокой точностью  (относительно других рассмотренных в этой лабораторной работе алгоритмов кластеризации)."
   ]
  },
  {
   "cell_type": "code",
   "execution_count": null,
   "id": "0f6b8988",
   "metadata": {},
   "outputs": [],
   "source": []
  }
 ],
 "metadata": {
  "kernelspec": {
   "display_name": "Python 3 (ipykernel)",
   "language": "python",
   "name": "python3"
  },
  "language_info": {
   "codemirror_mode": {
    "name": "ipython",
    "version": 3
   },
   "file_extension": ".py",
   "mimetype": "text/x-python",
   "name": "python",
   "nbconvert_exporter": "python",
   "pygments_lexer": "ipython3",
   "version": "3.10.11"
  }
 },
 "nbformat": 4,
 "nbformat_minor": 5
}
