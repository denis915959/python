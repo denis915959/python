{
 "cells": [
  {
   "cell_type": "code",
   "execution_count": 1,
   "id": "011be74d",
   "metadata": {},
   "outputs": [
    {
     "name": "stderr",
     "output_type": "stream",
     "text": [
      "C:\\Users\\Lenovo\\AppData\\Local\\Temp\\ipykernel_20896\\3241667044.py:40: UserWarning: To copy construct from a tensor, it is recommended to use sourceTensor.clone().detach() or sourceTensor.clone().detach().requires_grad_(True), rather than torch.tensor(sourceTensor).\n",
      "  x_tensor = torch.tensor(x) #.view(120, 1) #преобразуем одномерный массив в тензор, понятный torch\n",
      "C:\\Users\\Lenovo\\AppData\\Local\\Temp\\ipykernel_20896\\3241667044.py:42: UserWarning: To copy construct from a tensor, it is recommended to use sourceTensor.clone().detach() or sourceTensor.clone().detach().requires_grad_(True), rather than torch.tensor(sourceTensor).\n",
      "  y_tensor = torch.tensor(y).view(120, 1)\n"
     ]
    },
    {
     "name": "stdout",
     "output_type": "stream",
     "text": [
      "<class 'torch.Tensor'>\n",
      "Epoch [100/1000], Loss: 4.9087\n",
      "Epoch [200/1000], Loss: 4.2672\n",
      "Epoch [300/1000], Loss: 4.0786\n",
      "Epoch [400/1000], Loss: 4.0231\n",
      "Epoch [500/1000], Loss: 4.0068\n",
      "Epoch [600/1000], Loss: 4.0020\n",
      "Epoch [700/1000], Loss: 4.0006\n",
      "Epoch [800/1000], Loss: 4.0002\n",
      "Epoch [900/1000], Loss: 4.0001\n",
      "Epoch [1000/1000], Loss: 4.0000\n",
      "k1: 0.4977998435497284\n",
      "b1: -1.7145413160324097\n"
     ]
    },
    {
     "data": {
      "text/plain": [
       "'# Создаем график\\nplt.scatter(x, y, marker=\".\")\\n\\n# Добавляем заголовок и подписи осей\\nplt.title(\\'Нормальное распределение\\', fontsize=16)\\nplt.xlabel(\\'Значения X\\', fontsize=14)\\nplt.ylabel(\\'Плотность вероятности\\', fontsize=14)\\n\\n# Отображаем график\\nplt.show()'"
      ]
     },
     "execution_count": 1,
     "metadata": {},
     "output_type": "execute_result"
    }
   ],
   "source": [
    "import numpy as np\n",
    "from scipy.stats import norm #для построения нормального распределения\n",
    "import matplotlib.pyplot as plt\n",
    "import torch\n",
    "\n",
    "\n",
    "#блок создания датасета с шумом \n",
    "x = np.arange(-6, 6, 0.1)\n",
    "y0=[]\n",
    "size=120\n",
    "k=0.5\n",
    "b=2\n",
    "for i in range(0, size):\n",
    "\ttmp=b + k*x[i]\n",
    "\ty0.append(tmp)\n",
    "\n",
    "\n",
    "# Вычисляем соответствующие значения плотности вероятности нормального распределения\n",
    "e = norm.pdf(x, 0, 1)\n",
    "y=[]\n",
    "minus=False\n",
    "m=0.5 #без этого коэффициэнта слишком сильное \"расширение\" графика в середине\n",
    "for i in range(0, size):\n",
    "\t#print(e[i])\n",
    "\tif(minus==False):\n",
    "\t\ttmp=y0[i]+m*e[i]\n",
    "\t\tminus=True\n",
    "\telse:\n",
    "\t\ttmp=y0[i]-m*e[i]\n",
    "\t\tminus=False\n",
    "\ty.append(tmp)\n",
    "\n",
    "\n",
    "#блок восстановления параметров линии\n",
    "\n",
    "#заново создаем x и y точно такие же для pytorch\n",
    "x = torch.linspace(-3, 3, 120).view(-1, 1) #-1, 1 это что?\n",
    "y = k*x + b #+ torch.randn(120, 1)*0.1\n",
    "\n",
    "x_tensor = torch.tensor(x) #.view(120, 1) #преобразуем одномерный массив в тензор, понятный torch\n",
    "x_tensor = x_tensor.view(-1, 1)\n",
    "y_tensor = torch.tensor(y).view(120, 1)\n",
    "\n",
    "#инициализируем параметры модели\n",
    "k1 = torch.randn(1, 1, requires_grad=True) #это тензор размера 1х1\n",
    "b1 = torch.randn(1, requires_grad=True)\n",
    "\n",
    "#с типом все ок. откуда double???\n",
    "print(type(b1)) \n",
    "\n",
    "#задаем функцию потерь\n",
    "loss_fn = torch.nn.MSELoss()\n",
    "\n",
    "optimizer = torch.optim.SGD([k1, b1], lr=0.001) #lr - размер шага оптимизатора (влияет на скорость обучения)\n",
    "\n",
    "for i in range(1000): #число итераций надо настраивать, большое может приводить к переобучению, маленькое число - к малой точности\n",
    "\t# сбрасываем градиенты\n",
    "\toptimizer.zero_grad()\n",
    "\ty_pred = x_tensor.mm(k1) #в этой строке ошибка \n",
    "\t+ b1\n",
    "\n",
    "\t# вычисляем функцию потерь\n",
    "\tloss = loss_fn(y_pred, y_tensor)\n",
    "\n",
    "\t# вычисляем градиенты\n",
    "\tloss.backward()\n",
    "\n",
    "\t# обновляем параметры модели\n",
    "\toptimizer.step()\n",
    "\n",
    "\t# выводим прогресс обучения\n",
    "\tif (i+1) % 100 == 0:\n",
    "\t\tprint('Epoch [{}/{}], Loss: {:.4f}'.format(i+1, 1000, loss.item()))\n",
    "\n",
    "print('k1:', k1.item())\n",
    "print('b1:', b1.item())\n",
    "\n",
    "\"\"\"# Создаем график\n",
    "plt.scatter(x, y, marker=\".\")\n",
    "\n",
    "# Добавляем заголовок и подписи осей\n",
    "plt.title('Нормальное распределение', fontsize=16)\n",
    "plt.xlabel('Значения X', fontsize=14)\n",
    "plt.ylabel('Плотность вероятности', fontsize=14)\n",
    "\n",
    "# Отображаем график\n",
    "plt.show()\"\"\""
   ]
  },
  {
   "cell_type": "code",
   "execution_count": null,
   "id": "bcce6591",
   "metadata": {},
   "outputs": [],
   "source": []
  }
 ],
 "metadata": {
  "kernelspec": {
   "display_name": "Python 3 (ipykernel)",
   "language": "python",
   "name": "python3"
  },
  "language_info": {
   "codemirror_mode": {
    "name": "ipython",
    "version": 3
   },
   "file_extension": ".py",
   "mimetype": "text/x-python",
   "name": "python",
   "nbconvert_exporter": "python",
   "pygments_lexer": "ipython3",
   "version": "3.10.11"
  }
 },
 "nbformat": 4,
 "nbformat_minor": 5
}
